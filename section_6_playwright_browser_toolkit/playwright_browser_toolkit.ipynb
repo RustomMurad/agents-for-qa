{
 "cells": [
  {
   "cell_type": "markdown",
   "id": "33ddbafe",
   "metadata": {},
   "source": [
    "#### Working with PlayWright Browser Toolkit"
   ]
  },
  {
   "cell_type": "code",
   "execution_count": 1,
   "id": "feec5660",
   "metadata": {},
   "outputs": [
    {
     "name": "stderr",
     "output_type": "stream",
     "text": [
      "/Users/roman_lagunov/agents-for-qa/.venv/lib/python3.13/site-packages/tqdm/auto.py:21: TqdmWarning: IProgress not found. Please update jupyter and ipywidgets. See https://ipywidgets.readthedocs.io/en/stable/user_install.html\n",
      "  from .autonotebook import tqdm as notebook_tqdm\n"
     ]
    }
   ],
   "source": [
    "from langchain_ollama import ChatOllama\n",
    "\n",
    "llm = ChatOllama(\n",
    "    base_url=\"http://localhost:11434\",\n",
    "    model = \"qwen3:8b\",\n",
    "    temperature=0.5\n",
    ")"
   ]
  },
  {
   "cell_type": "code",
   "execution_count": 2,
   "id": "9cedf900",
   "metadata": {},
   "outputs": [],
   "source": [
    "from langchain_community.agent_toolkits import PlayWrightBrowserToolkit\n",
    "from langchain_community.tools.playwright.utils import (\n",
    "    create_async_playwright_browser,\n",
    ")\n",
    "import nest_asyncio\n",
    "nest_asyncio.apply()\n"
   ]
  },
  {
   "cell_type": "markdown",
   "id": "ab664ea8",
   "metadata": {},
   "source": [
    "##### Get all Tools from Playwright Browser Toolkit"
   ]
  },
  {
   "cell_type": "code",
   "execution_count": 3,
   "id": "dd2c4dd9",
   "metadata": {},
   "outputs": [
    {
     "data": {
      "text/plain": [
       "{'click_element': ClickTool(async_browser=<Browser type=<BrowserType name=chromium executable_path=/Users/roman_lagunov/Library/Caches/ms-playwright/chromium-1187/chrome-mac/Chromium.app/Contents/MacOS/Chromium> version=140.0.7339.16>),\n",
       " 'navigate_browser': NavigateTool(async_browser=<Browser type=<BrowserType name=chromium executable_path=/Users/roman_lagunov/Library/Caches/ms-playwright/chromium-1187/chrome-mac/Chromium.app/Contents/MacOS/Chromium> version=140.0.7339.16>),\n",
       " 'previous_webpage': NavigateBackTool(async_browser=<Browser type=<BrowserType name=chromium executable_path=/Users/roman_lagunov/Library/Caches/ms-playwright/chromium-1187/chrome-mac/Chromium.app/Contents/MacOS/Chromium> version=140.0.7339.16>),\n",
       " 'extract_text': ExtractTextTool(async_browser=<Browser type=<BrowserType name=chromium executable_path=/Users/roman_lagunov/Library/Caches/ms-playwright/chromium-1187/chrome-mac/Chromium.app/Contents/MacOS/Chromium> version=140.0.7339.16>),\n",
       " 'extract_hyperlinks': ExtractHyperlinksTool(async_browser=<Browser type=<BrowserType name=chromium executable_path=/Users/roman_lagunov/Library/Caches/ms-playwright/chromium-1187/chrome-mac/Chromium.app/Contents/MacOS/Chromium> version=140.0.7339.16>),\n",
       " 'get_elements': GetElementsTool(async_browser=<Browser type=<BrowserType name=chromium executable_path=/Users/roman_lagunov/Library/Caches/ms-playwright/chromium-1187/chrome-mac/Chromium.app/Contents/MacOS/Chromium> version=140.0.7339.16>),\n",
       " 'current_webpage': CurrentWebPageTool(async_browser=<Browser type=<BrowserType name=chromium executable_path=/Users/roman_lagunov/Library/Caches/ms-playwright/chromium-1187/chrome-mac/Chromium.app/Contents/MacOS/Chromium> version=140.0.7339.16>)}"
      ]
     },
     "execution_count": 3,
     "metadata": {},
     "output_type": "execute_result"
    }
   ],
   "source": [
    "async_browser = create_async_playwright_browser()\n",
    "toolkit = PlayWrightBrowserToolkit(async_browser=async_browser)\n",
    "tools = toolkit.get_tools()\n",
    "tools\n",
    "tool_by_name = {tool.name: tool for tool in tools}\n",
    "tool_by_name"
   ]
  },
  {
   "cell_type": "code",
   "execution_count": 4,
   "id": "9b9bf6cf",
   "metadata": {},
   "outputs": [
    {
     "data": {
      "text/plain": [
       "NavigateTool(async_browser=<Browser type=<BrowserType name=chromium executable_path=/Users/roman_lagunov/Library/Caches/ms-playwright/chromium-1187/chrome-mac/Chromium.app/Contents/MacOS/Chromium> version=140.0.7339.16>)"
      ]
     },
     "execution_count": 4,
     "metadata": {},
     "output_type": "execute_result"
    }
   ],
   "source": [
    "navigate_tool = tool_by_name[\"navigate_browser\"]\n",
    "get_elements_tool = tool_by_name[\"get_elements\"]\n",
    "navigate_tool"
   ]
  },
  {
   "cell_type": "code",
   "execution_count": 5,
   "id": "33da0f1e",
   "metadata": {},
   "outputs": [
    {
     "data": {
      "text/plain": [
       "'Navigating to http://eaapp.somee.com/Employee returned status code 200'"
      ]
     },
     "execution_count": 5,
     "metadata": {},
     "output_type": "execute_result"
    }
   ],
   "source": [
    "await navigate_tool.arun(\"http://eaapp.somee.com/Employee\")"
   ]
  },
  {
   "cell_type": "code",
   "execution_count": 6,
   "id": "97aab1ae",
   "metadata": {},
   "outputs": [
    {
     "data": {
      "text/plain": [
       "'[{\"innerText\": \"Karthik\"}, {\"innerText\": \"4000\"}, {\"innerText\": \"24\"}, {\"innerText\": \"1\"}, {\"innerText\": \"karthik@executeautomation.com\"}, {\"innerText\": \"Benefits Edit Delete\"}, {\"innerText\": \"Prashanth\"}, {\"innerText\": \"7000\"}, {\"innerText\": \"30\"}, {\"innerText\": \"2\"}, {\"innerText\": \"prashanth@executeautomation.com\"}, {\"innerText\": \"Benefits Edit Delete\"}, {\"innerText\": \"Ramesh\"}, {\"innerText\": \"3500\"}, {\"innerText\": \"13\"}, {\"innerText\": \"2\"}, {\"innerText\": \"ramesh@executeautomation.com\"}, {\"innerText\": \"Benefits Edit Delete\"}, {\"innerText\": \"John\"}, {\"innerText\": \"2500\"}, {\"innerText\": \"18\"}, {\"innerText\": \"3\"}, {\"innerText\": \"john@executeautomation.com\"}, {\"innerText\": \"Benefits Edit Delete\"}, {\"innerText\": \"Sarah Johnson\"}, {\"innerText\": \"5500\"}, {\"innerText\": \"36\"}, {\"innerText\": \"2\"}, {\"innerText\": \"sarah.johnson@executeautomation.com\"}, {\"innerText\": \"Benefits Edit Delete\"}]'"
      ]
     },
     "execution_count": 6,
     "metadata": {},
     "output_type": "execute_result"
    }
   ],
   "source": [
    "await get_elements_tool.arun({\"selector\": \"td\", \"attributes\": [\"innerText\"]})"
   ]
  },
  {
   "cell_type": "markdown",
   "id": "0797a176",
   "metadata": {},
   "source": [
    "#### Working with AI Agents"
   ]
  },
  {
   "cell_type": "code",
   "execution_count": 8,
   "id": "234d492c",
   "metadata": {},
   "outputs": [
    {
     "name": "stdout",
     "output_type": "stream",
     "text": [
      "\n",
      "\n",
      "\u001b[1m> Entering new AgentExecutor chain...\u001b[0m\n",
      "\u001b[32;1m\u001b[1;3m<think>\n",
      "Okay, let's see. The user wants to extract table data from the Employee page at http://eaapp.somee.com/Employee and find the average salary. First, I need to navigate to that URL. So the first action should be navigate_browser with the given URL.\n",
      "\n",
      "Once there, I should check if there's a table on the page. Maybe I can extract all the text to see the structure. Alternatively, use get_elements with a selector like 'table' or 'tr' to get the table rows. Wait, tables are usually structured with <table> tags, and data in <tr> rows and <td> cells. So perhaps using get_elements with selector 'tr' to get each row.\n",
      "\n",
      "But first, I need to confirm the page content. Let me start by navigating to the URL. Then, maybe extract all hyperlinks to see if there's a direct link to the table, but that might not be necessary. Alternatively, extract_text to see the content. However, if the table is in HTML, extracting text might not be the best approach. Maybe using get_elements to target the table rows.\n",
      "\n",
      "Wait, the user wants the average salary. So the table likely has a 'Salary' column. Once I have all the salary values, I can calculate the average. But how to get those values. Let's break it down step by step.\n",
      "\n",
      "First, navigate to the URL. Then, check the current page to see if there's a table. If the table is present, use get_elements with a selector that targets the salary cells. For example, if each row has a salary in the last column, maybe select all 'td' elements within 'tr' tags. Alternatively, use a more specific selector.\n",
      "\n",
      "Alternatively, extract all hyperlinks to see if there's a direct link to the data, but that's probably not needed. Let's proceed step by step. First, navigate to the URL. Then, use get_elements to find the table rows. Then, extract the salary values from each row and compute the average.\n",
      "\n",
      "But I need to make sure that the elements are correctly selected. Maybe start by checking the current webpage's URL to confirm navigation. Then, extract the text or elements. Let me outline the steps:\n",
      "\n",
      "1. Navigate to http://eaapp.somee.com/Employee.\n",
      "2. Check if the page is loaded correctly.\n",
      "3. Locate the table containing employee data.\n",
      "4. Extract salary values from each row.\n",
      "5. Calculate the average.\n",
      "\n",
      "So the first action is navigate_browser with the URL. Then, check the current webpage to confirm. Then, use get_elements to get the table rows. Let's start with the navigate action.\n",
      "</think>\n",
      "\n",
      "Action:\n",
      "```\n",
      "{\n",
      "  \"action\": \"navigate_browser\",\n",
      "  \"action_input\": {\n",
      "    \"url\": \"http://eaapp.somee.com/Employee\"\n",
      "  }\n",
      "}\n",
      "```\u001b[0m\n",
      "Observation: \u001b[33;1m\u001b[1;3mNavigating to http://eaapp.somee.com/Employee returned status code 200\u001b[0m\n",
      "Thought:\u001b[32;1m\u001b[1;3m<think>\n",
      "Okay, I need to extract table data from the Employee page and calculate the average salary. Let's start by navigating to the URL, which I just did. The next step is to check if there's a table on the page. Since the user mentioned a table, I should look for elements that represent table rows or cells.\n",
      "\n",
      "Maybe I can use the get_elements tool with a CSS selector for table rows. The selector could be 'tr' to get all table rows. Alternatively, if the table has a specific ID or class, that might be more efficient. But since I don't know the exact structure, starting with 'tr' is a safe bet.\n",
      "\n",
      "Wait, sometimes tables have headers in the first row, so I might need to skip that. But first, let me retrieve all the table rows to see the structure. Once I have the rows, I can extract the salary values from each row. Let me try using get_elements with 'tr' as the selector and see what data I get.\n",
      "</think>\n",
      "\n",
      "Action:\n",
      "```\n",
      "{\n",
      "  \"action\": \"get_elements\",\n",
      "  \"action_input\": {\n",
      "    \"selector\": \"tr\",\n",
      "    \"attributes\": [\"innerHTML\"]\n",
      "  }\n",
      "}\n",
      "```\u001b[0m\n",
      "Observation: \u001b[33;1m\u001b[1;3m[]\u001b[0m\n",
      "Thought:\u001b[32;1m\u001b[1;3m<think>\n",
      "Okay, the user wants to extract table data from the Employee page and find the average salary. Let me think through the steps again.\n",
      "\n",
      "First, I navigated to the URL http://eaapp.somee.com/Employee, which returned a 200 status. That means the page loaded successfully. Next, I tried to get all table rows using the CSS selector 'tr' with the get_elements tool. But the observation was an empty list, which suggests that either there are no table rows, or the selector isn't correct.\n",
      "\n",
      "Hmm, maybe the table isn't structured with 'tr' elements, or perhaps the page uses a different structure. Alternatively, maybe the table is inside a different container, like a div with a specific class. Let me check the current webpage's content to see if there's a table.\n",
      "\n",
      "Wait, I could use the extract_text tool to get all the text on the page and look for the table structure. Alternatively, use extract_hyperlinks to see if there's a direct link to the data, but that's probably not helpful here. Another approach is to check for the presence of a table using a more specific selector, like 'table' or 'td'.\n",
      "\n",
      "Alternatively, maybe the table rows are nested within a specific div or section. Let me first extract the text to see if there's any indication of a table. If the text doesn't show a table, maybe the data is presented in a different format. But since the user mentioned a table, I should focus on that.\n",
      "\n",
      "Wait, perhaps the initial get_elements call with 'tr' didn't work because the table is dynamically loaded, and the initial page load doesn't include the data. In that case, I might need to interact with the page, like clicking a button to load the data. But without seeing the page, it's hard to tell. Let me try another approach: check for the presence of a table by using a different selector, like 'table' to get the table element, then extract rows from there.\n",
      "\n",
      "Alternatively, maybe the table rows are not 'tr' elements but part of a different structure. Let me try using the 'table' selector first to see if that returns any elements. If I can get the table, then I can extract the rows from it. Let's try that.\n",
      "</think>\n",
      "\n",
      "Action:\n",
      "```\n",
      "{\n",
      "  \"action\": \"get_elements\",\n",
      "  \"action_input\": {\n",
      "    \"selector\": \"table\",\n",
      "    \"attributes\": [\"innerHTML\"]\n",
      "  }\n",
      "}\n",
      "```\u001b[0m\n",
      "Observation: \u001b[33;1m\u001b[1;3m[]\u001b[0m\n",
      "Thought:\u001b[32;1m\u001b[1;3m<think>\n",
      "Okay, the user wants to extract table data from the Employee page and calculate the average salary. Let me recap what's been done so far.\n",
      "\n",
      "First, I navigated to the URL http://eaapp.somee.com/Employee, which was successful. Then, I tried to get all table rows using the selector 'tr', but it returned an empty list. Next, I tried getting the table element itself using the selector 'table', but that also returned nothing. \n",
      "\n",
      "Hmm, maybe the table isn't present in the HTML structure, or perhaps it's rendered differently. Maybe the data is in a different format, like a div with a class name or a script-generated element. Alternatively, the table might be inside an iframe, which would require a different approach. \n",
      "\n",
      "Another possibility is that the page uses a different structure for tables, such as using a grid layout or a different HTML structure. Let me check the current webpage's URL to confirm I'm on the correct page. Wait, the current_webpage tool can help verify the URL. Let me use that to ensure I'm still on the Employee page.\n",
      "\n",
      "If the URL is correct, maybe I need to look for alternative selectors. For example, if the table has a specific class or ID, using that in the selector could work. Alternatively, maybe the data is in a JSON format embedded in the page, which I can extract using JavaScript, but the tools available here don't support that. \n",
      "\n",
      "Wait, perhaps the initial assumption about the table structure is wrong. Let me try extracting all elements to see if there's a table-like structure. Using a broad selector like '*' might show all elements, but that's too vague. Alternatively, check for elements with specific attributes related to tables, like 'border' or 'cellpadding'. \n",
      "\n",
      "Alternatively, maybe the table is not in the main content but in a different section. Let me try using the extract_text tool to see if there's any text that indicates a table or salary data. If the text is present, I can parse it manually. \n",
      "\n",
      "Another angle: if the get_elements for 'tr' and 'table' both return empty, maybe the data is in a different format, like a list or a JSON array. But the user specifically mentioned a table, so I should focus on that. \n",
      "\n",
      "Wait, maybe the page uses a different tag for tables, like 'div' with a specific class. Let me try using a more general selector, like 'div', and check if any of them contain table-like data. Alternatively, check for elements with 'td' or 'th' tags, which are typically used in tables. \n",
      "\n",
      "Alternatively, maybe the table is dynamically loaded via JavaScript, and the initial page load doesn't include the data. In that case, I might need to simulate a click on a button that loads the data, but without seeing the page, it's hard to tell. \n",
      "\n",
      "Given the tools available, perhaps the next step is to extract all hyperlinks to see if there's a link to the data, but that's a stretch. Alternatively, check the current webpage's text to see if there's any mention of salaries or employee data. \n",
      "\n",
      "Wait, the user might have a typo or the page structure is different. Let me try using the extract_text tool to get all text on the page and look for salary information. If the text is present, I can parse it manually. \n",
      "\n",
      "So, the next action should be to extract all text from the current webpage to see if there's any data that can be used to calculate the average salary. If that's not possible, maybe the user needs to check the page structure or provide more details. \n",
      "\n",
      "But given the tools, I'll proceed with extracting text to see if any salary data is present.\n",
      "</think>\n",
      "\n",
      "Action:\n",
      "```\n",
      "{\n",
      "  \"action\": \"extract_text\",\n",
      "  \"action_input\": {}\n",
      "}\n",
      "```\u001b[0m\n",
      "Observation: \u001b[31;1m\u001b[1;3m- Execute Automation Employee App Home About Employee List Register Login Name Salary DurationWorked Grade Email Karthik 4000 24 1 karthik@executeautomation.com Benefits Edit Delete Prashanth 7000 30 2 prashanth@executeautomation.com Benefits Edit Delete Ramesh 3500 13 2 ramesh@executeautomation.com Benefits Edit Delete John 2500 18 3 john@executeautomation.com Benefits Edit Delete Sarah Johnson 5500 36 2 sarah.johnson@executeautomation.com Benefits Edit Delete © 2025 - Powered by ExecuteAutomation.com Hosted Windows Virtual Server. 2.5GHz CPU, 2GB RAM, 60GB SSD. Try it now for $1! Web hosting by Somee.com\u001b[0m\n",
      "Thought:\u001b[32;1m\u001b[1;3m<think>\n",
      "Okay, let's see. The user wants the average salary from the Employee page. The previous steps tried to extract table data but didn't get the table structure. Then, the extract_text action returned some text with employee names, salaries, etc.\n",
      "\n",
      "Looking at the extracted text, there are entries like \"Karthik 4000\", \"Prashanth 7000\", etc. The numbers after the names are likely salaries. So, I need to parse these numbers, sum them up, and divide by the count to get the average.\n",
      "\n",
      "First, split the text into lines. Each line represents an employee. Then, for each line, split by space to get the salary. Convert those to numbers, sum them, and calculate the average. Let's check the numbers:\n",
      "\n",
      "4000, 7000, 3500, 2500, 5500. Sum is 4000+7000=11000, +3500=14500, +2500=17000, +5500=22500. There are 5 employees. Average is 22500 / 5 = 4500. So the final answer should be 4500.\n",
      "</think>\n",
      "\n",
      "Action:\n",
      "```\n",
      "{\n",
      "  \"action\": \"Final Answer\",\n",
      "  \"action_input\": \"The average salary of employees is $4500.\"\n",
      "}\n",
      "```\u001b[0m\n",
      "\n",
      "\u001b[1m> Finished chain.\u001b[0m\n",
      "The average salary of employees is $4500.\n"
     ]
    }
   ],
   "source": [
    "from langchain.agents import initialize_agent, AgentType\n",
    "\n",
    "tools = toolkit.get_tools()\n",
    "\n",
    "agent = initialize_agent(\n",
    "    tools=tools,\n",
    "    llm=llm,\n",
    "    agent=AgentType.STRUCTURED_CHAT_ZERO_SHOT_REACT_DESCRIPTION,\n",
    "    verbose=True\n",
    ")\n",
    "\n",
    "query = \"Extract table data from http://eaapp.somee.com/Employee page and get me average salary of employees.\"\n",
    "result = await agent.arun(query)\n",
    "print(result)"
   ]
  }
 ],
 "metadata": {
  "kernelspec": {
   "display_name": ".venv (3.13.7)",
   "language": "python",
   "name": "python3"
  },
  "language_info": {
   "codemirror_mode": {
    "name": "ipython",
    "version": 3
   },
   "file_extension": ".py",
   "mimetype": "text/x-python",
   "name": "python",
   "nbconvert_exporter": "python",
   "pygments_lexer": "ipython3",
   "version": "3.13.7"
  }
 },
 "nbformat": 4,
 "nbformat_minor": 5
}
