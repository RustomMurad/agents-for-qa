{
 "cells": [
  {
   "cell_type": "markdown",
   "id": "33ddbafe",
   "metadata": {},
   "source": [
    "#### Working with PlayWright Browser Toolkit"
   ]
  },
  {
   "cell_type": "code",
   "execution_count": 1,
   "id": "feec5660",
   "metadata": {},
   "outputs": [
    {
     "name": "stderr",
     "output_type": "stream",
     "text": [
      "/Users/roman_lagunov/agents-for-qa/.venv/lib/python3.13/site-packages/tqdm/auto.py:21: TqdmWarning: IProgress not found. Please update jupyter and ipywidgets. See https://ipywidgets.readthedocs.io/en/stable/user_install.html\n",
      "  from .autonotebook import tqdm as notebook_tqdm\n"
     ]
    }
   ],
   "source": [
    "from langchain_ollama import ChatOllama\n",
    "\n",
    "llm = ChatOllama(\n",
    "    base_url=\"http://localhost:11434\",\n",
    "    model = \"qwen3:8b\",\n",
    "    temperature=0.5\n",
    ")"
   ]
  },
  {
   "cell_type": "code",
   "execution_count": 2,
   "id": "9cedf900",
   "metadata": {},
   "outputs": [],
   "source": [
    "from langchain_community.agent_toolkits import PlayWrightBrowserToolkit\n",
    "from langchain_community.tools.playwright.utils import (\n",
    "    create_async_playwright_browser,\n",
    ")\n",
    "import nest_asyncio\n",
    "nest_asyncio.apply()\n"
   ]
  },
  {
   "cell_type": "markdown",
   "id": "ab664ea8",
   "metadata": {},
   "source": [
    "##### Get all Tools from Playwright Browser Toolkit"
   ]
  },
  {
   "cell_type": "code",
   "execution_count": 3,
   "id": "dd2c4dd9",
   "metadata": {},
   "outputs": [
    {
     "data": {
      "text/plain": [
       "{'click_element': ClickTool(async_browser=<Browser type=<BrowserType name=chromium executable_path=/Users/roman_lagunov/Library/Caches/ms-playwright/chromium-1187/chrome-mac/Chromium.app/Contents/MacOS/Chromium> version=140.0.7339.16>),\n",
       " 'navigate_browser': NavigateTool(async_browser=<Browser type=<BrowserType name=chromium executable_path=/Users/roman_lagunov/Library/Caches/ms-playwright/chromium-1187/chrome-mac/Chromium.app/Contents/MacOS/Chromium> version=140.0.7339.16>),\n",
       " 'previous_webpage': NavigateBackTool(async_browser=<Browser type=<BrowserType name=chromium executable_path=/Users/roman_lagunov/Library/Caches/ms-playwright/chromium-1187/chrome-mac/Chromium.app/Contents/MacOS/Chromium> version=140.0.7339.16>),\n",
       " 'extract_text': ExtractTextTool(async_browser=<Browser type=<BrowserType name=chromium executable_path=/Users/roman_lagunov/Library/Caches/ms-playwright/chromium-1187/chrome-mac/Chromium.app/Contents/MacOS/Chromium> version=140.0.7339.16>),\n",
       " 'extract_hyperlinks': ExtractHyperlinksTool(async_browser=<Browser type=<BrowserType name=chromium executable_path=/Users/roman_lagunov/Library/Caches/ms-playwright/chromium-1187/chrome-mac/Chromium.app/Contents/MacOS/Chromium> version=140.0.7339.16>),\n",
       " 'get_elements': GetElementsTool(async_browser=<Browser type=<BrowserType name=chromium executable_path=/Users/roman_lagunov/Library/Caches/ms-playwright/chromium-1187/chrome-mac/Chromium.app/Contents/MacOS/Chromium> version=140.0.7339.16>),\n",
       " 'current_webpage': CurrentWebPageTool(async_browser=<Browser type=<BrowserType name=chromium executable_path=/Users/roman_lagunov/Library/Caches/ms-playwright/chromium-1187/chrome-mac/Chromium.app/Contents/MacOS/Chromium> version=140.0.7339.16>)}"
      ]
     },
     "execution_count": 3,
     "metadata": {},
     "output_type": "execute_result"
    }
   ],
   "source": [
    "async_browser = create_async_playwright_browser()\n",
    "toolkit = PlayWrightBrowserToolkit(async_browser=async_browser)\n",
    "tools = toolkit.get_tools()\n",
    "tools\n",
    "tool_by_name = {tool.name: tool for tool in tools}\n",
    "tool_by_name"
   ]
  },
  {
   "cell_type": "code",
   "execution_count": 4,
   "id": "9b9bf6cf",
   "metadata": {},
   "outputs": [
    {
     "data": {
      "text/plain": [
       "NavigateTool(async_browser=<Browser type=<BrowserType name=chromium executable_path=/Users/roman_lagunov/Library/Caches/ms-playwright/chromium-1187/chrome-mac/Chromium.app/Contents/MacOS/Chromium> version=140.0.7339.16>)"
      ]
     },
     "execution_count": 4,
     "metadata": {},
     "output_type": "execute_result"
    }
   ],
   "source": [
    "navigate_tool = tool_by_name[\"navigate_browser\"]\n",
    "get_elements_tool = tool_by_name[\"get_elements\"]\n",
    "navigate_tool"
   ]
  },
  {
   "cell_type": "code",
   "execution_count": 5,
   "id": "33da0f1e",
   "metadata": {},
   "outputs": [
    {
     "data": {
      "text/plain": [
       "'Navigating to http://eaapp.somee.com/Employee returned status code 200'"
      ]
     },
     "execution_count": 5,
     "metadata": {},
     "output_type": "execute_result"
    }
   ],
   "source": [
    "await navigate_tool.arun(\"http://eaapp.somee.com/Employee\")"
   ]
  },
  {
   "cell_type": "code",
   "execution_count": 6,
   "id": "97aab1ae",
   "metadata": {},
   "outputs": [
    {
     "data": {
      "text/plain": [
       "'[{\"innerText\": \"Karthik\"}, {\"innerText\": \"4000\"}, {\"innerText\": \"24\"}, {\"innerText\": \"1\"}, {\"innerText\": \"karthik@executeautomation.com\"}, {\"innerText\": \"Benefits Edit Delete\"}, {\"innerText\": \"Prashanth\"}, {\"innerText\": \"7000\"}, {\"innerText\": \"30\"}, {\"innerText\": \"2\"}, {\"innerText\": \"prashanth@executeautomation.com\"}, {\"innerText\": \"Benefits Edit Delete\"}, {\"innerText\": \"Ramesh\"}, {\"innerText\": \"3500\"}, {\"innerText\": \"13\"}, {\"innerText\": \"2\"}, {\"innerText\": \"ramesh@executeautomation.com\"}, {\"innerText\": \"Benefits Edit Delete\"}, {\"innerText\": \"John\"}, {\"innerText\": \"2500\"}, {\"innerText\": \"18\"}, {\"innerText\": \"3\"}, {\"innerText\": \"john@executeautomation.com\"}, {\"innerText\": \"Benefits Edit Delete\"}]'"
      ]
     },
     "execution_count": 6,
     "metadata": {},
     "output_type": "execute_result"
    }
   ],
   "source": [
    "await get_elements_tool.arun({\"selector\": \"td\", \"attributes\": [\"innerText\"]})"
   ]
  },
  {
   "cell_type": "markdown",
   "id": "0797a176",
   "metadata": {},
   "source": [
    "#### Working with AI Agents"
   ]
  },
  {
   "cell_type": "code",
   "execution_count": 7,
   "id": "234d492c",
   "metadata": {},
   "outputs": [
    {
     "name": "stderr",
     "output_type": "stream",
     "text": [
      "/var/folders/nv/60j_ljyj5gz7_pqc_y4r0g640000gn/T/ipykernel_5359/3343154534.py:5: LangChainDeprecationWarning: LangChain agents will continue to be supported, but it is recommended for new use cases to be built with LangGraph. LangGraph offers a more flexible and full-featured framework for building agents, including support for tool-calling, persistence of state, and human-in-the-loop workflows. For details, refer to the `LangGraph documentation <https://langchain-ai.github.io/langgraph/>`_ as well as guides for `Migrating from AgentExecutor <https://python.langchain.com/docs/how_to/migrate_agent/>`_ and LangGraph's `Pre-built ReAct agent <https://langchain-ai.github.io/langgraph/how-tos/create-react-agent/>`_.\n",
      "  agent = initialize_agent(\n"
     ]
    },
    {
     "name": "stdout",
     "output_type": "stream",
     "text": [
      "\n",
      "\n",
      "\u001b[1m> Entering new AgentExecutor chain...\u001b[0m\n",
      "\u001b[32;1m\u001b[1;3m<think>\n",
      "Okay, the user wants to extract table data from the Employee page at http://eaapp.somee.com/Employee and calculate the average salary. Let me think about how to approach this.\n",
      "\n",
      "First, I need to navigate to the specified URL. So the first action should be to use navigate_browser with the given URL. Once there, I should check if there's a table on the page. But how do I confirm that? Maybe I should extract all the text or hyperlinks first to see what's available. Wait, but the user specifically mentioned a table, so perhaps I should look for elements that are part of a table, like tr or td tags.\n",
      "\n",
      "Alternatively, maybe I can use get_elements with a selector like 'table' or 'tr' to get the table rows. But if the table isn't present, that might not work. Let me start by navigating to the page. Once there, I can check the current webpage's content. If the table is there, then I can extract the data. But how to handle if the table isn't found? Maybe the user made a typo or the page structure is different. \n",
      "\n",
      "Wait, maybe the table is in a specific structure. Let's proceed step by step. First, navigate to the URL. Then, extract all hyperlinks to see if there's a table-related link, but that might not be necessary. Alternatively, extract all text to see if the table data is present. However, extracting text might not be efficient. \n",
      "\n",
      "Another approach: use get_elements with a selector like 'table tr' to get all table rows. Then, iterate through each row to extract salary data. But the user wants the average salary, so I need to collect all salary values from the table. \n",
      "\n",
      "Wait, but the tools available don't include a way to process the data after extraction. The user might need to have the data extracted first. So, first, navigate to the URL. Then, use get_elements to get all the salary entries. For example, if the salary is in a specific column, like the third column in each row, I can extract that. \n",
      "\n",
      "But how to determine the structure of the table? Maybe the first step is to navigate to the page and then extract the text to see the content. Let me start by navigating to the URL. Then, check the current webpage's content. If the table is there, proceed to extract the data. \n",
      "\n",
      "Alternatively, maybe the user expects me to use the get_elements tool with a specific selector. For example, if the table rows are in 'tr' elements, and each row has a 'td' for salary. But without knowing the exact structure, it's a bit challenging. \n",
      "\n",
      "So, the first action is to navigate to the URL. Then, perhaps extract all hyperlinks to see if there's a table, but that's not directly helpful. Alternatively, extract all text to see if the table data is present. Let's proceed step by step.\n",
      "</think>\n",
      "\n",
      "Action:\n",
      "```\n",
      "{\n",
      "  \"action\": \"navigate_browser\",\n",
      "  \"action_input\": {\n",
      "    \"url\": \"http://eaapp.somee.com/Employee\"\n",
      "  }\n",
      "}\n",
      "```\u001b[0m\n",
      "Observation: \u001b[33;1m\u001b[1;3mNavigating to http://eaapp.somee.com/Employee returned status code 200\u001b[0m\n",
      "Thought:\u001b[32;1m\u001b[1;3m<think>\n",
      "Okay, I need to extract table data from the Employee page and calculate the average salary. Let me start by navigating to the URL. The user provided the URL, so I'll use the navigate_browser tool with that URL. Once I'm on the page, I should check if there's a table. But how do I find the table data?\n",
      "\n",
      "Maybe I can use the get_elements tool to find all table rows. Tables are usually structured with <table> tags, and rows within <tr> tags. Each row might have cells in <td> or <th> tags. If I can get all the rows, I can then extract the salary information from each row.\n",
      "\n",
      "Wait, but first I need to confirm that the table exists on the page. Alternatively, maybe I can extract all text from the page to see if there's a table structure. But that might not be efficient. Let me try using get_elements with a selector that targets table rows. For example, using 'tr' as the selector. If that returns elements, I can then process each row to find the salary column.\n",
      "\n",
      "Alternatively, if the table has a specific class or ID, using a more specific selector might be better. But since I don't know the exact structure, starting with 'tr' is a safe bet. Once I have the rows, I can look for the salary data within each row's cells. Assuming the salary is in a specific column, like the third column, I can extract those values, convert them to numbers, and calculate the average.\n",
      "\n",
      "But first, I need to make sure I'm on the correct page. The navigate_browser action was successful, so now I should use get_elements to find the table rows. Let me try that next.\n",
      "</think>\n",
      "\n",
      "Action:\n",
      "```\n",
      "{\n",
      "  \"action\": \"get_elements\",\n",
      "  \"action_input\": {\n",
      "    \"selector\": \"table tr\",\n",
      "    \"attributes\": [\"innerText\"]\n",
      "  }\n",
      "}\n",
      "```\u001b[0m\n",
      "Observation: \u001b[33;1m\u001b[1;3m[{\"innerText\": \"Name\\tSalary\\tDurationWorked\\tGrade\\tEmail\\t\"}, {\"innerText\": \"Karthik\\t4000\\t24\\t1\\tkarthik@executeautomation.com\\tBenefits Edit Delete\"}, {\"innerText\": \"Prashanth\\t7000\\t30\\t2\\tprashanth@executeautomation.com\\tBenefits Edit Delete\"}, {\"innerText\": \"Ramesh\\t3500\\t13\\t2\\tramesh@executeautomation.com\\tBenefits Edit Delete\"}, {\"innerText\": \"John\\t2500\\t18\\t3\\tjohn@executeautomation.com\\tBenefits Edit Delete\"}]\u001b[0m\n",
      "Thought:\u001b[32;1m\u001b[1;3m<think>\n",
      "Okay, let's see. The user wants the average salary from the Employee page. I navigated to the URL and used get_elements to get all table rows. The response includes the headers and some data rows. The first row is the header with \"Name\", \"Salary\", etc. The next rows have employee details. \n",
      "\n",
      "I need to extract the salary values. Looking at the data, each row's innerText is separated by tabs. So, the Salary column is the second item in each row. For example, \"Karthik\\t4000\\t...\" has \"4000\" as the salary. \n",
      "\n",
      "I should process each row (excluding the header) to get the salary numbers. Then, sum them up and divide by the count to find the average. Let me check the data again:\n",
      "\n",
      "- Karthik: 4000\n",
      "- Prashanth: 7000\n",
      "- Ramesh: 3500\n",
      "- John: 2500\n",
      "\n",
      "Sum is 4000 + 7000 = 11000, plus 3500 = 14500, plus 2500 = 17000. There are 4 employees, so 17000 / 4 = 4250. The average salary should be 4250. \n",
      "\n",
      "I need to confirm there are no other rows and that the numbers are correct. Then, present the final answer.\n",
      "</think>\n",
      "\n",
      "Action:\n",
      "```\n",
      "{\n",
      "  \"action\": \"Final Answer\",\n",
      "  \"action_input\": \"The average salary is 4250.\"\n",
      "}\n",
      "```\u001b[0m\n",
      "\n",
      "\u001b[1m> Finished chain.\u001b[0m\n",
      "{'input': 'Extract table data from http://eaapp.somee.com/Employee page and calculate me average Salary', 'output': 'The average salary is 4250.'}\n"
     ]
    }
   ],
   "source": [
    "from langchain.agents import initialize_agent, AgentType\n",
    "\n",
    "tools = toolkit.get_tools()\n",
    "\n",
    "agent = initialize_agent(\n",
    "    tools=tools,\n",
    "    llm=llm,\n",
    "    agent=AgentType.STRUCTURED_CHAT_ZERO_SHOT_REACT_DESCRIPTION,\n",
    "    verbose=True\n",
    ")\n",
    "\n",
    "query = \"Extract table data from http://eaapp.somee.com/Employee page and calculate me average Salary\"\n",
    "result = await agent.ainvoke(query)\n",
    "print(result)"
   ]
  }
 ],
 "metadata": {
  "kernelspec": {
   "display_name": ".venv (3.13.7)",
   "language": "python",
   "name": "python3"
  },
  "language_info": {
   "codemirror_mode": {
    "name": "ipython",
    "version": 3
   },
   "file_extension": ".py",
   "mimetype": "text/x-python",
   "name": "python",
   "nbconvert_exporter": "python",
   "pygments_lexer": "ipython3",
   "version": "3.13.7"
  }
 },
 "nbformat": 4,
 "nbformat_minor": 5
}
