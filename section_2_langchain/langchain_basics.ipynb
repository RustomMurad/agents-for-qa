{
 "cells": [
  {
   "cell_type": "markdown",
   "id": "895b33e1",
   "metadata": {},
   "source": [
    "### LangChain Basics"
   ]
  },
  {
   "cell_type": "code",
   "execution_count": 5,
   "id": "dde2fd25",
   "metadata": {},
   "outputs": [],
   "source": [
    "# pip install langchain\n",
    "# pip install -U langchain-ollama"
   ]
  },
  {
   "cell_type": "markdown",
   "id": "4171fec6",
   "metadata": {},
   "source": [
    "### Setting up ollama for LangChain with model qwen3:8b"
   ]
  },
  {
   "cell_type": "code",
   "execution_count": 21,
   "id": "e3929c3b",
   "metadata": {},
   "outputs": [],
   "source": [
    "from langchain_ollama import ChatOllama\n",
    "\n",
    "llm = ChatOllama(\n",
    "    base_url=\"http://localhost:11434\",\n",
    "    model = \"qwen2.5:7b\",\n",
    "    temperature=0.5\n",
    ")\n"
   ]
  },
  {
   "cell_type": "markdown",
   "id": "cced7f71",
   "metadata": {},
   "source": [
    "### Invoke ollama model and get response"
   ]
  },
  {
   "cell_type": "code",
   "execution_count": null,
   "id": "b4a479ac",
   "metadata": {},
   "outputs": [],
   "source": [
    "response = llm.invoke('Hi how are you doing?')\n",
    "print(response.content)"
   ]
  },
  {
   "cell_type": "markdown",
   "id": "cb6965d5",
   "metadata": {},
   "source": [
    "### Streaming response"
   ]
  },
  {
   "cell_type": "code",
   "execution_count": null,
   "id": "415a3bb4",
   "metadata": {},
   "outputs": [],
   "source": [
    "for chunk in llm.stream('Hi how are you doing?'):\n",
    "    print(chunk.content, end='', flush=True)"
   ]
  },
  {
   "cell_type": "markdown",
   "id": "2419d4bf",
   "metadata": {},
   "source": [
    "### Understanding Prompt Templates"
   ]
  },
  {
   "cell_type": "code",
   "execution_count": null,
   "id": "a29b1811",
   "metadata": {},
   "outputs": [],
   "source": [
    "from langchain.prompts import PromptTemplate\n",
    "\n",
    "prompt_template = PromptTemplate.from_template('What is role of {type} in software testing?')\n",
    "\n",
    "prompt = prompt_template.invoke({'type': 'Human'})\n",
    "\n",
    "result = llm.invoke(prompt).content\n",
    "\n",
    "print(result)"
   ]
  },
  {
   "cell_type": "code",
   "execution_count": null,
   "id": "1990458d",
   "metadata": {},
   "outputs": [],
   "source": []
  },
  {
   "cell_type": "markdown",
   "id": "fa4155d3",
   "metadata": {},
   "source": [
    "### More Examples: Behavioral-Driving, Data-Driving, AI-Driving, Shift-Left-Driving testing"
   ]
  },
  {
   "cell_type": "code",
   "execution_count": null,
   "id": "68a68a71",
   "metadata": {},
   "outputs": [],
   "source": [
    "from langchain.prompts import PromptTemplate\n",
    "\n",
    "prompt_template = PromptTemplate.from_template('What is {type} software testing?')\n",
    "template= prompt_template.invoke({'type':'Behavioral-Driving'})\n",
    "result = llm.invoke(template).content\n",
    "print(result)"
   ]
  },
  {
   "cell_type": "markdown",
   "id": "75ce80ad",
   "metadata": {},
   "source": [
    "### LangChain Chaining Mechanizm"
   ]
  },
  {
   "cell_type": "code",
   "execution_count": null,
   "id": "b63c2b42",
   "metadata": {},
   "outputs": [],
   "source": [
    "from langchain.prompts import PromptTemplate\n",
    "\n",
    "prompt_template = PromptTemplate.from_template('What is {type} software testing?')\n",
    "chain = prompt_template | llm\n",
    "result = chain.invoke({'type':'Data-Driving'})\n",
    "print(result.content)\n"
   ]
  },
  {
   "cell_type": "markdown",
   "id": "f07ac29a",
   "metadata": {},
   "source": [
    "### Chaining with Parsers"
   ]
  },
  {
   "cell_type": "code",
   "execution_count": 28,
   "id": "bd506c6a",
   "metadata": {},
   "outputs": [
    {
     "name": "stdout",
     "output_type": "stream",
     "text": [
      "{'AI-DrivingSoftwareTesting': 'A process where artificial intelligence (AI) technologies are utilized to test driving-related software applications, ensuring their reliability and safety through automated testing methods, analysis of large datasets, and simulation of real-world scenarios.'}\n"
     ]
    }
   ],
   "source": [
    "from langchain.prompts import PromptTemplate\n",
    "from langchain_core.output_parsers import JsonOutputParser\n",
    "\n",
    "\n",
    "prompt_template = PromptTemplate.from_template('What is {type} software testing?. Give me the answer in JSON format only.')\n",
    "chain = prompt_template | llm | JsonOutputParser()\n",
    "result = chain.invoke({'type': 'AI-Driving'})\n",
    "print(result)"
   ]
  }
 ],
 "metadata": {
  "kernelspec": {
   "display_name": ".venv (3.13.7)",
   "language": "python",
   "name": "python3"
  },
  "language_info": {
   "codemirror_mode": {
    "name": "ipython",
    "version": 3
   },
   "file_extension": ".py",
   "mimetype": "text/x-python",
   "name": "python",
   "nbconvert_exporter": "python",
   "pygments_lexer": "ipython3",
   "version": "3.13.7"
  }
 },
 "nbformat": 4,
 "nbformat_minor": 5
}
