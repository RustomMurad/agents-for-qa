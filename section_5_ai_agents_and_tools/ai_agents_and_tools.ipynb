{
 "cells": [
  {
   "cell_type": "markdown",
   "id": "37356b74",
   "metadata": {},
   "source": [
    "#### Working with AI Agent and Tools"
   ]
  },
  {
   "cell_type": "code",
   "execution_count": 1,
   "id": "3f466f39",
   "metadata": {},
   "outputs": [
    {
     "name": "stderr",
     "output_type": "stream",
     "text": [
      "/Users/roman_lagunov/agents-for-qa/.venv/lib/python3.13/site-packages/tqdm/auto.py:21: TqdmWarning: IProgress not found. Please update jupyter and ipywidgets. See https://ipywidgets.readthedocs.io/en/stable/user_install.html\n",
      "  from .autonotebook import tqdm as notebook_tqdm\n"
     ]
    }
   ],
   "source": [
    "from langchain_ollama import ChatOllama\n",
    "\n",
    "llm = ChatOllama(\n",
    "    base_url=\"http://localhost:11434\",\n",
    "    model = \"qwen2.5:7b\",\n",
    "    temperature=0.5\n",
    ")"
   ]
  },
  {
   "cell_type": "code",
   "execution_count": null,
   "id": "f105c240",
   "metadata": {},
   "outputs": [],
   "source": [
    "from langchain.agents import initialize_agent, AgentType, load_tools\n",
    "\n",
    "tools = load_tools([\"wikipedia\"], llm=llm)\n",
    "agent = initialize_agent(tools, llm, agent=AgentType.ZERO_SHOT_REACT_DESCRIPTION)\n",
    "\n",
    "for chunk in agent.stream(\"What iss Tools in AI Agent\"):\n",
    "    print(chunk)"
   ]
  },
  {
   "cell_type": "markdown",
   "id": "e97d49c8",
   "metadata": {},
   "source": [
    "#### Building Simple Agent"
   ]
  },
  {
   "cell_type": "code",
   "execution_count": null,
   "id": "1a5e6da0",
   "metadata": {},
   "outputs": [],
   "source": [
    "from langchain.agents import initialize_agent, AgentType, load_tools\n",
    "from langchain.tools import tool\n",
    "\n",
    "@tool\n",
    "def add_numbers(a: int, b: int) -> int:\n",
    "    \"Add two given numbers together and return result.\"\n",
    "    return int(a) + int(b)\n",
    "\n",
    "@tool\n",
    "def multiply_numbers(a: int, b: int) -> int:\n",
    "    \"Multiply two given numbers together and return result.\"\n",
    "    return int(a) * int(b)\n",
    "\n",
    "@tool\n",
    "def subtract_numbers(a: int, b: int) -> int:\n",
    "    \"Subtract two given numbers and return result.\"\n",
    "    return int(a) - int(b)\n",
    "\n",
    "tools = [add_numbers, multiply_numbers, subtract_numbers]\n",
    "\n",
    "arithmitic_agent = initialize_agent(tools=tools,\n",
    "                        llm=llm,\n",
    "                        agent=AgentType.STRUCTURED_CHAT_ZERO_SHOT_REACT_DESCRIPTION, verbose=True)\n",
    "\n",
    "query = \"What is the result of (5 + 3) * 2 - 4? Output query with result.\"\n",
    "\n",
    "result = arithmitic_agent.run(query)\n",
    "print(result)\n"
   ]
  }
 ],
 "metadata": {
  "kernelspec": {
   "display_name": ".venv (3.13.7)",
   "language": "python",
   "name": "python3"
  },
  "language_info": {
   "codemirror_mode": {
    "name": "ipython",
    "version": 3
   },
   "file_extension": ".py",
   "mimetype": "text/x-python",
   "name": "python",
   "nbconvert_exporter": "python",
   "pygments_lexer": "ipython3",
   "version": "3.13.7"
  }
 },
 "nbformat": 4,
 "nbformat_minor": 5
}
