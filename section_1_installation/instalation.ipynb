{
 "cells": [
  {
   "cell_type": "code",
   "execution_count": null,
   "id": "2efd381a",
   "metadata": {},
   "outputs": [],
   "source": [
    "print('Hello Python!')"
   ]
  },
  {
   "cell_type": "markdown",
   "id": "a86dd402",
   "metadata": {},
   "source": [
    "##### My Adition code"
   ]
  },
  {
   "cell_type": "code",
   "execution_count": null,
   "id": "667f4b2d",
   "metadata": {},
   "outputs": [],
   "source": [
    "a = 20 + 30\n",
    "print(a)"
   ]
  },
  {
   "cell_type": "code",
   "execution_count": null,
   "id": "22be1638",
   "metadata": {},
   "outputs": [],
   "source": [
    "for i in range(21):\n",
    "    print(i)"
   ]
  }
 ],
 "metadata": {
  "kernelspec": {
   "display_name": ".venv (3.13.7)",
   "language": "python",
   "name": "python3"
  },
  "language_info": {
   "codemirror_mode": {
    "name": "ipython",
    "version": 3
   },
   "file_extension": ".py",
   "mimetype": "text/x-python",
   "name": "python",
   "nbconvert_exporter": "python",
   "pygments_lexer": "ipython3",
   "version": "3.13.7"
  }
 },
 "nbformat": 4,
 "nbformat_minor": 5
}
